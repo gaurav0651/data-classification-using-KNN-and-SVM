{
 "cells": [
  {
   "cell_type": "code",
   "execution_count": 1,
   "metadata": {},
   "outputs": [],
   "source": [
    "import pandas as pd\n",
    "from sklearn.preprocessing import LabelEncoder\n",
    "from sklearn.model_selection import train_test_split\n",
    "from sklearn.metrics import accuracy_score \n",
    "from sklearn.metrics import confusion_matrix"
   ]
  },
  {
   "cell_type": "code",
   "execution_count": 2,
   "metadata": {},
   "outputs": [],
   "source": [
    "df = pd.read_csv(\"data/sonar.all-data\")"
   ]
  },
  {
   "cell_type": "code",
   "execution_count": 3,
   "metadata": {},
   "outputs": [],
   "source": [
    "X = df.values[:,0:-1].astype(float)\n",
    "le = LabelEncoder().fit([\"R\", \"M\"])\n",
    "y = le.transform(df.R)"
   ]
  },
  {
   "cell_type": "code",
   "execution_count": 4,
   "metadata": {},
   "outputs": [],
   "source": [
    "X_train, X_test, y_train, y_test = train_test_split(X, y, test_size=0.25, random_state=0)"
   ]
  },
  {
   "cell_type": "code",
   "execution_count": 5,
   "metadata": {},
   "outputs": [
    {
     "name": "stdout",
     "output_type": "stream",
     "text": [
      "KNN model\n",
      "\n",
      "Accuracy 78.85%\n",
      "Confusion Matrix:\n",
      "[[25  2]\n",
      " [ 9 16]]\n"
     ]
    }
   ],
   "source": [
    "print(\"KNN model\\n\")\n",
    "from sklearn.neighbors.classification import KNeighborsClassifier\n",
    "\n",
    "knn = KNeighborsClassifier(p=1).fit(X_train, y_train)\n",
    "\n",
    "predicted = knn.predict(X_test)\n",
    "print('Accuracy {0:.2f}%'.format(accuracy_score(y_test, predicted)*100))\n",
    "print(\"Confusion Matrix:\")\n",
    "print(confusion_matrix(y_test, predicted))"
   ]
  },
  {
   "cell_type": "code",
   "execution_count": 6,
   "metadata": {},
   "outputs": [
    {
     "name": "stdout",
     "output_type": "stream",
     "text": [
      "SVM model\n",
      "\n",
      "Accuracy 82.69%\n",
      "Confusion Matrix:\n",
      "[[26  1]\n",
      " [ 8 17]]\n"
     ]
    }
   ],
   "source": [
    "print(\"SVM model\\n\")\n",
    "from sklearn.svm import SVC\n",
    "\n",
    "svm = SVC(kernel='linear').fit(X_train, y_train)\n",
    "\n",
    "predicted = svm.predict(X_test)\n",
    "print('Accuracy {0:.2f}%'.format(accuracy_score(y_test, predicted)*100))\n",
    "print(\"Confusion Matrix:\")\n",
    "print(confusion_matrix(y_test, predicted))"
   ]
  }
 ],
 "metadata": {
  "kernelspec": {
   "display_name": "Python 2",
   "language": "python",
   "name": "python2"
  },
  "language_info": {
   "codemirror_mode": {
    "name": "ipython",
    "version": 2
   },
   "file_extension": ".py",
   "mimetype": "text/x-python",
   "name": "python",
   "nbconvert_exporter": "python",
   "pygments_lexer": "ipython2",
   "version": "2.7.14"
  }
 },
 "nbformat": 4,
 "nbformat_minor": 2
}
